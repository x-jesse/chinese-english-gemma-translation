{
 "cells": [
  {
   "cell_type": "markdown",
   "metadata": {},
   "source": [
    "### Processing SRT file"
   ]
  },
  {
   "cell_type": "code",
   "execution_count": 12,
   "metadata": {},
   "outputs": [],
   "source": [
    "import pandas as pd\n",
    "import os\n",
    "import pyarrow.parquet as pq"
   ]
  },
  {
   "cell_type": "code",
   "execution_count": 13,
   "metadata": {},
   "outputs": [],
   "source": [
    "\n",
    "\n",
    "def parse_srt(file_path):\n",
    "    \"\"\"\n",
    "    Parses an SRT file and extracts subtitle information.\n",
    "\n",
    "    Args:\n",
    "        file_path (str): Path to the SRT file.\n",
    "\n",
    "    Returns:\n",
    "        pd.DataFrame: DataFrame containing index, start_time, end_time, chinese, and english columns.\n",
    "    \"\"\"\n",
    "    with open(file_path, 'r', encoding='utf-8') as f:\n",
    "        content = f.read()\n",
    "    \n",
    "    # Split the content into blocks separated by two newlines\n",
    "    blocks = content.strip().split('\\n\\n')\n",
    "    data = []\n",
    "    \n",
    "    for block in blocks:\n",
    "        lines = block.strip().split('\\n')\n",
    "        \n",
    "        # Ensure the block has at least 4 lines: index, time, chinese, english\n",
    "        if len(lines) >= 4:\n",
    "            try:\n",
    "                index = int(lines[0].strip())\n",
    "                times = lines[1].strip()\n",
    "                start_time, end_time = times.split(' --> ')\n",
    "                chinese = lines[2].strip()\n",
    "                english = lines[3].strip()\n",
    "                \n",
    "                data.append({\n",
    "                    'index': index,\n",
    "                    'start_time': start_time,\n",
    "                    'end_time': end_time,\n",
    "                    'chinese': chinese,\n",
    "                    'english': english\n",
    "                })\n",
    "            except Exception as e:\n",
    "                print(f\"Error parsing block:\\n{block}\\nError: {e}\")\n",
    "    \n",
    "    return pd.DataFrame(data)\n",
    "\n",
    "def srt_to_parquet(srt_file, parquet_file):\n",
    "    \"\"\"\n",
    "    Converts an SRT file to a Parquet file with matching Chinese and English subtitles.\n",
    "\n",
    "    Args:\n",
    "        srt_file (str): Path to the input SRT file.\n",
    "        parquet_file (str): Path to the output Parquet file.\n",
    "    \"\"\"\n",
    "    df = parse_srt(srt_file)\n",
    "    df.to_parquet(parquet_file, index=False)\n",
    "    print(f\"Successfully converted {srt_file} to {parquet_file}\")\n",
    "\n"
   ]
  },
  {
   "cell_type": "code",
   "execution_count": 14,
   "metadata": {},
   "outputs": [],
   "source": [
    "srt_folder = 'subtitle'\n",
    "#travel all files in the folder and process all srt files\n",
    "target_folder = 'subtitle_parquet'\n",
    "for file in os.listdir(srt_folder):\n",
    "    if file.endswith(\".srt\"):\n",
    "        srt_file = os.path.join(srt_folder, file)\n",
    "        parquet_file = os.path.join(target_folder, file.replace('.srt', '.parquet'))\n",
    "        srt_to_parquet(srt_file, parquet_file)\n",
    "        \n"
   ]
  },
  {
   "cell_type": "code",
   "execution_count": 16,
   "metadata": {},
   "outputs": [],
   "source": [
    "# merge all parquet files in target_folder into one parquet file\n",
    "\n",
    "dfs = []\n",
    "for file in os.listdir(target_folder):\n",
    "    if file.endswith(\".parquet\"):\n",
    "        file_path = os.path.join(target_folder, file)\n",
    "        df = pd.read_parquet(file_path)\n",
    "        dfs.append(df)\n"
   ]
  }
 ],
 "metadata": {
  "kernelspec": {
   "display_name": "Python 3",
   "language": "python",
   "name": "python3"
  },
  "language_info": {
   "codemirror_mode": {
    "name": "ipython",
    "version": 3
   },
   "file_extension": ".py",
   "mimetype": "text/x-python",
   "name": "python",
   "nbconvert_exporter": "python",
   "pygments_lexer": "ipython3",
   "version": "3.12.7"
  }
 },
 "nbformat": 4,
 "nbformat_minor": 2
}
